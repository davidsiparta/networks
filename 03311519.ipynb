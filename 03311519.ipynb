{
 "cells": [
  {
   "cell_type": "code",
   "execution_count": 53,
   "metadata": {},
   "outputs": [],
   "source": [
    "import numpy as np\n",
    "import matplotlib.pyplot as plt\n",
    "from scipy.integrate import odeint\n",
    "import networkx as nx\n",
    "import scipy.linalg as la\n",
    "import time"
   ]
  },
  {
   "cell_type": "code",
   "execution_count": 54,
   "metadata": {},
   "outputs": [],
   "source": [
    "def weighted_sums(F, L, i, j):\n",
    "    s = 0;\n",
    "    for k in range(i, j):\n",
    "        s = s + F[k] * L[k];\n",
    "    return s"
   ]
  },
  {
   "cell_type": "code",
   "execution_count": 144,
   "metadata": {},
   "outputs": [
    {
     "name": "stdout",
     "output_type": "stream",
     "text": [
      "[[0. 1. 0. ... 0. 0. 0.]\n",
      " [0. 0. 0. ... 0. 0. 0.]\n",
      " [0. 0. 0. ... 1. 0. 0.]\n",
      " ...\n",
      " [0. 0. 0. ... 0. 1. 0.]\n",
      " [0. 1. 0. ... 0. 0. 0.]\n",
      " [0. 0. 0. ... 0. 0. 0.]]\n"
     ]
    }
   ],
   "source": [
    "from networkx.algorithms import bipartite\n",
    "from networkx.algorithms.bipartite.generators import configuration_model\n",
    "d = 20;\n",
    "e = 16;\n",
    "N = 200;\n",
    "aseq = d * np.ones(int(N))\n",
    "bseq = e * np.ones(int(N*d/e))\n",
    "G = configuration_model(aseq.astype(int), bseq.astype(int), create_using=nx.Graph(), seed=None)\n",
    "\n",
    "#nx.draw(B, with_labels=True)\n",
    "\n",
    "X, Y = bipartite.sets(G)\n",
    "pos = dict()\n",
    "pos.update( (n, (1, i)) for i, n in enumerate(X) ) # put nodes from X at x=1\n",
    "pos.update( (n, (2, i)) for i, n in enumerate(Y) ) # put nodes from Y at x=2\n",
    "\n",
    "J = np.zeros((N, max(Y)-N+1), dtype=np.float32)\n",
    "for i in range(N,max(Y)+1):\n",
    "    temp = [n for n in G[i]]\n",
    "    for j in range(len(G[i])):\n",
    "        J[temp[j]][i - N] = 1\n",
    "print(J)\n",
    "\n",
    "#nx.draw(G, pos=pos, with_labels=True)\n",
    "#plt.show()\n",
    "#print(nx.adjacency_matrix(B, nodelist=None, weight='weight'))"
   ]
  },
  {
   "cell_type": "code",
   "execution_count": 145,
   "metadata": {},
   "outputs": [
    {
     "name": "stdout",
     "output_type": "stream",
     "text": [
      "154.69\n"
     ]
    }
   ],
   "source": [
    "import itertools\n",
    "H = nx.MultiGraph()\n",
    "for i in range(max(Y)-N+1):\n",
    "    Q = list(itertools.combinations(np.where(J[:,i] == 1)[0], 2))\n",
    "    H.add_edges_from(Q)\n",
    "A = nx.adjacency_matrix(H)\n",
    "#print(A.todense())\n",
    "HI = nx.from_numpy_matrix(A.todense())\n",
    "k = 2*nx.number_of_edges(HI)/len(HI)\n",
    "print(2*nx.number_of_edges(HI)/len(HI))\n",
    "B = A.todense()\n",
    "W = np.unique(np.array(B))"
   ]
  },
  {
   "cell_type": "code",
   "execution_count": 151,
   "metadata": {
    "scrolled": true
   },
   "outputs": [],
   "source": [
    "tau = 0.06\n",
    "gamma = 0.5\n",
    "No_of_Iterations = 10\n",
    "y0 = 10"
   ]
  },
  {
   "cell_type": "code",
   "execution_count": 152,
   "metadata": {},
   "outputs": [],
   "source": [
    "def cons(y, t):\n",
    "    I = y[0]\n",
    "    dIdt = tau * (N - I) * d * ((e-1)/N)*I - gamma * I\n",
    "    #dIdt = tau * (500 - I) * 16 * ((20-1)/500)*I - gamma * I\n",
    "    return  dIdt\n",
    "\n",
    "t = np.linspace(0, 2, 200)\n",
    "y_Simon = odeint(cons, y0, t)\n",
    "#print(y_Simon)\n",
    "#plt.plot(y_Simon)\n",
    "#plt.plot(y_pairs[:,1])\n",
    "#plt.plot(I)\n",
    "#plt.plot(y)"
   ]
  },
  {
   "cell_type": "code",
   "execution_count": 153,
   "metadata": {},
   "outputs": [],
   "source": [
    "#closing at the level of pairs\n",
    "\n",
    "\n",
    "def deriv(x, t):\n",
    "    S, I = x\n",
    "    dSdt = -tau * S * I + gamma * I\n",
    "    dIdt = tau * S * I - gamma * I\n",
    "    return dSdt, dIdt\n",
    "\n",
    "S0, I0 = N-y0, y0\n",
    "x0 = S0, I0\n",
    "y_pairs = odeint(deriv, x0, t)\n",
    "#print(y_pairs)\n",
    "#plt.plot(ret[:,1])"
   ]
  },
  {
   "cell_type": "code",
   "execution_count": 154,
   "metadata": {},
   "outputs": [],
   "source": [
    "ti = 200;\n",
    "S, I = np.zeros(ti), np.zeros(ti)\n",
    "SI, II, SS = np.zeros((len(W),ti)), np.zeros((len(W),ti)), np.zeros((len(W),ti))\n",
    "S[0] = N - y0\n",
    "I[0] = y0\n",
    "\n",
    "x = np.zeros(N)\n",
    "x[0] = 1\n",
    "x[1] = 1\n",
    "x[2] = 1\n",
    "x[3] = 1\n",
    "x[4] = 1\n",
    "x[5] = 1\n",
    "x[6] = 1\n",
    "x[7] = 1\n",
    "x[8] = 1\n",
    "x[9] = 1\n",
    "\n",
    "for i in range(N):\n",
    "    for j in range(N):\n",
    "        if i != j:\n",
    "            if x[i] == 0 and x[j] == 0:\n",
    "                SS[B[i,j],0] += 1;\n",
    "            if (x[i] == 0 and x[j] == 1) or (x[i] == 1 and x[j] == 0):\n",
    "                SI[B[i,j],0] += 1;\n",
    "            if x[i] == 1 and x[j] == 1:\n",
    "                II[B[i,j],0] += 1\n",
    "                \n",
    "for t in range(ti-1):\n",
    "    S[t + 1] = S[t] + (gamma * I[t] - tau * weighted_sums(W, SI[:,t], 0, len(W))) * 0.01\n",
    "    I[t + 1] = I[t] + (tau * weighted_sums(W, SI[:,t], 0, len(W)) - gamma * I[t]) * 0.01\n",
    "    for m in range(len(W)):\n",
    "        SI[m, t + 1] = SI[m, t] + (gamma * (II[m, t] - SI[m, t]) + tau * weighted_sums(W, ((k-1)/k*SS[m,t]/S[t])*SI[:,t]-((k-1)/k*SI[m,t]/S[t])*SI[:,t], 0, len(W))-tau*W[m]*SI[m,t])*0.01\n",
    "        II[m, t + 1] = II[m, t] + (-2*gamma*II[m, t] + 2*tau*weighted_sums(W, ((k-1)/k*SI[m,t]/S[t])*SI[:,t], 0, len(W)) + 2*tau*W[m]*SI[m,t])*0.01\n",
    "        SS[m, t + 1] = SS[m, t] + (2*gamma*SI[m, t] - 2*tau*weighted_sums(W, ((k-1)/k*SS[m,t]/S[t])*SI[:,t], 0, len(W)))*0.01                       "
   ]
  },
  {
   "cell_type": "code",
   "execution_count": 155,
   "metadata": {},
   "outputs": [
    {
     "name": "stdout",
     "output_type": "stream",
     "text": [
      "Run time = 215.3894398212433\n"
     ]
    },
    {
     "data": {
      "text/plain": [
       "[<matplotlib.lines.Line2D at 0x151c739bd0>]"
      ]
     },
     "execution_count": 155,
     "metadata": {},
     "output_type": "execute_result"
    },
    {
     "data": {
      "image/png": "[encoded data removed]",
      "text/plain": [
       "<Figure size 432x288 with 1 Axes>"
      ]
     },
     "metadata": {
      "needs_background": "light"
     },
     "output_type": "display_data"
    }
   ],
   "source": [
    "infected = np.zeros((200,No_of_Iterations))\n",
    "#recovered = np.zeros(300)\n",
    "\n",
    "start_time = time.time()\n",
    "for iteration in range(No_of_Iterations):\n",
    "    x = np.zeros(len(X), dtype=np.float32)\n",
    "    #init_I = np.random.randint(N - 1, size=y0)\n",
    "    #print(init_I)\n",
    "    #x[init_I] = 1\n",
    "    x[0] = 1\n",
    "    x[1] = 1\n",
    "    x[2] = 1\n",
    "    x[3] = 1\n",
    "    x[4] = 1\n",
    "    x[5] = 1\n",
    "    x[6] = 1\n",
    "    x[7] = 1\n",
    "    x[8] = 1\n",
    "    x[9] = 1\n",
    "    #print(iteration)\n",
    "    for i in range(200):\n",
    "        r = np.random.rand(N)\n",
    "        #print(r)\n",
    "        for j in range(len(X)):\n",
    "            \n",
    "            if x[j] == 0:\n",
    "                s = 0\n",
    "                for k in range(len(J[0])):\n",
    "                    s = s + J[j][k] * np.matmul(x,J)[k]\n",
    "                #print(1 - np.exp(-tau * s * 0.01))\n",
    "                if r[j] <= 1 - np.exp(-tau * s * 0.01):\n",
    "                    x[j] = 1\n",
    "            if x[j] == 1:\n",
    "                if r[j] <= 1 - np.exp(-gamma * 0.01):\n",
    "                    x[j] = 0\n",
    "        infected[i][iteration] = np.sum(x)\n",
    "#plt.plot(infected)\n",
    "#plt.plot(recovered)\n",
    "end_time = time.time()\n",
    "print(\"Run time = {}\".format(end_time - start_time))\n",
    "plt.plot(np.mean(infected, axis=1))\n",
    "plt.plot(y_Simon)\n",
    "plt.plot(y_pairs[:,1])\n",
    "plt.plot(I)"
   ]
  },
  {
   "cell_type": "code",
   "execution_count": 139,
   "metadata": {},
   "outputs": [
    {
     "data": {
      "text/plain": [
       "array([16., 15., 15., 15., 16., 12., 14., 14., 15., 15., 15., 12., 12.,\n",
       "       14., 12., 12., 16., 13., 13., 13., 14., 15., 16., 15., 16., 15.,\n",
       "       14., 15., 13., 12., 16., 13., 12., 15., 15., 12., 15., 14., 12.,\n",
       "       15., 15., 14., 16., 14., 16., 15., 14., 14., 16., 14., 14., 13.,\n",
       "       15., 13., 15., 14., 12., 12., 14., 15., 14., 15., 12., 15., 12.,\n",
       "       15., 15., 14., 14., 16., 15., 15., 13., 15., 12., 15., 15., 15.,\n",
       "       14., 12., 14., 16., 16., 13., 15., 16., 14., 14., 14., 15., 15.,\n",
       "       16., 11., 14., 14., 15., 16., 13., 14., 12., 13., 16., 13., 15.,\n",
       "       15., 15., 16., 12., 16., 13., 15., 12., 14., 14., 16., 14., 13.,\n",
       "       15., 13., 14., 15., 13., 15., 16., 13.])"
      ]
     },
     "execution_count": 139,
     "metadata": {},
     "output_type": "execute_result"
    }
   ],
   "source": [
    "def dot_pr(f, g):\n",
    "    result = np.zeros(len(g[0]))\n",
    "    \n",
    "    for b in range(len(g[0])):\n",
    "        for a in range(len(f)):\n",
    "            if x[a] == 1 and J[a][b] == 1:\n",
    "                result[b] += 1;\n",
    "    return result\n",
    "\n",
    "dot_pr(x,J)"
   ]
  },
  {
   "cell_type": "code",
   "execution_count": null,
   "metadata": {},
   "outputs": [],
   "source": [
    "import random \n",
    "def partition (list_in, n):\n",
    "    random.shuffle(list_in)\n",
    "    return [list_in[i::n] for i in range(n)]"
   ]
  },
  {
   "cell_type": "raw",
   "metadata": {},
   "source": [
    "partition(list(range(100)), 10)"
   ]
  },
  {
   "cell_type": "code",
   "execution_count": null,
   "metadata": {},
   "outputs": [],
   "source": []
  },
  {
   "cell_type": "code",
   "execution_count": null,
   "metadata": {},
   "outputs": [],
   "source": [
    "def diff_eqs(INP,t):  \n",
    "    Y = np.zeros((3))\n",
    "    V = INP    \n",
    "    Y[0] = - beta * V[0] * V[1]\n",
    "    Y[1] = beta * V[0] * V[1] - gamma * V[1]\n",
    "    return Y   # For odeint\n"
   ]
  },
  {
   "cell_type": "code",
   "execution_count": null,
   "metadata": {},
   "outputs": [],
   "source": [
    "len(J[14])"
   ]
  },
  {
   "cell_type": "code",
   "execution_count": null,
   "metadata": {},
   "outputs": [],
   "source": [
    "print(J)"
   ]
  },
  {
   "cell_type": "code",
   "execution_count": null,
   "metadata": {},
   "outputs": [],
   "source": []
  },
  {
   "cell_type": "code",
   "execution_count": null,
   "metadata": {},
   "outputs": [],
   "source": [
    "G = nx.barabasi_albert_graph(50,10)\n",
    "A = list(nx.find_cliques(G))\n",
    "J = np.zeros((len(G),len(A)))\n",
    "for k in range(len(G)):\n",
    "    for i in range(len(A)):\n",
    "        for j in range(len(A[i])):\n",
    "            #print(i, j, A[i][j])\n",
    "            J[A[i][j]][i] = 1\n",
    "print(J)"
   ]
  },
  {
   "cell_type": "code",
   "execution_count": 62,
   "metadata": {},
   "outputs": [
    {
     "data": {
      "text/plain": [
       "125"
      ]
     },
     "execution_count": 62,
     "metadata": {},
     "output_type": "execute_result"
    }
   ],
   "source": [
    "len(J[0])"
   ]
  },
  {
   "cell_type": "code",
   "execution_count": null,
   "metadata": {},
   "outputs": [],
   "source": []
  }
 ],
 "metadata": {
  "kernelspec": {
   "display_name": "Python 3",
   "language": "python",
   "name": "python3"
  },
  "language_info": {
   "codemirror_mode": {
    "name": "ipython",
    "version": 3
   },
   "file_extension": ".py",
   "mimetype": "text/x-python",
   "name": "python",
   "nbconvert_exporter": "python",
   "pygments_lexer": "ipython3",
   "version": "3.7.6"
  }
 },
 "nbformat": 4,
 "nbformat_minor": 4
}
