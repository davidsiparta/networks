{
 "cells": [
  {
   "cell_type": "code",
   "execution_count": 22,
   "metadata": {},
   "outputs": [],
   "source": [
    "import numpy as np\n",
    "import matplotlib.pyplot as plt\n",
    "from scipy.integrate import odeint\n",
    "import networkx as nx\n",
    "import scipy.linalg as la"
   ]
  },
  {
   "cell_type": "code",
   "execution_count": 963,
   "metadata": {},
   "outputs": [
    {
     "name": "stdout",
     "output_type": "stream",
     "text": [
      "[[1. 0. 0. 0. 0. 1. 0. 0. 0. 0. 0. 0. 0. 0. 1. 0. 0. 1. 0. 0.]\n",
      " [0. 1. 0. 0. 0. 0. 1. 0. 0. 1. 0. 1. 0. 0. 0. 0. 0. 0. 0. 0.]\n",
      " [0. 0. 1. 1. 0. 0. 0. 1. 0. 0. 0. 0. 0. 1. 0. 0. 0. 0. 0. 0.]\n",
      " [0. 0. 0. 0. 0. 1. 0. 0. 0. 1. 0. 0. 0. 1. 0. 0. 1. 0. 0. 0.]\n",
      " [0. 0. 0. 0. 0. 0. 0. 0. 0. 0. 1. 1. 0. 0. 1. 0. 0. 0. 1. 0.]\n",
      " [0. 0. 1. 1. 0. 0. 0. 0. 0. 0. 1. 0. 0. 0. 0. 0. 1. 0. 0. 0.]\n",
      " [1. 1. 0. 0. 0. 0. 0. 0. 0. 0. 0. 0. 1. 0. 0. 0. 0. 1. 0. 0.]\n",
      " [0. 0. 0. 0. 1. 0. 0. 0. 1. 0. 0. 0. 0. 0. 0. 1. 0. 0. 0. 0.]\n",
      " [0. 0. 0. 0. 1. 0. 0. 1. 0. 0. 0. 0. 0. 0. 0. 0. 0. 0. 0. 1.]\n",
      " [0. 0. 0. 0. 0. 0. 1. 0. 0. 0. 0. 0. 1. 0. 0. 1. 0. 0. 1. 0.]]\n"
     ]
    }
   ],
   "source": [
    "\n",
    "from networkx.algorithms.bipartite.generators import configuration_model\n",
    "d = 4;\n",
    "e = 2;\n",
    "N = 10;\n",
    "aseq = d * np.ones(int(N))\n",
    "bseq = e * np.ones(int(N*d/e))\n",
    "G = configuration_model(aseq.astype(int), bseq.astype(int), create_using=nx.Graph(), seed=None)\n",
    "\n",
    "#nx.draw(B, with_labels=True)\n",
    "\n",
    "X, Y = bipartite.sets(G)\n",
    "pos = dict()\n",
    "pos.update( (n, (1, i)) for i, n in enumerate(X) ) # put nodes from X at x=1\n",
    "pos.update( (n, (2, i)) for i, n in enumerate(Y) ) # put nodes from Y at x=2\n",
    "\n",
    "J = np.zeros((N, max(Y)-N+1))\n",
    "for i in range(N,max(Y)+1):\n",
    "    temp = [n for n in G[i]]\n",
    "    for j in range(len(G[i])):\n",
    "        J[temp[j]][i - N] = 1\n",
    "print(J)\n",
    "\n",
    "#nx.draw(G, pos=pos, with_labels=True)\n",
    "#plt.show()\n",
    "\n",
    "\n",
    "#print(nx.adjacency_matrix(B, nodelist=None, weight='weight'))"
   ]
  },
  {
   "cell_type": "code",
   "execution_count": 827,
   "metadata": {
    "scrolled": true
   },
   "outputs": [],
   "source": [
    "tau = 0.15\n",
    "gamma = 0.5\n",
    "No_of_Iterations = 50"
   ]
  },
  {
   "cell_type": "code",
   "execution_count": 828,
   "metadata": {},
   "outputs": [],
   "source": [
    "#closing at the level of pairs\n",
    "y0 = 10\n",
    "\n",
    "def deriv(x, t):\n",
    "    S, I = x\n",
    "    dSdt = -tau * S * I + gamma * I\n",
    "    dIdt = tau * S * I - gamma * I\n",
    "    return dSdt, dIdt\n",
    "\n",
    "S0, I0 = N-y0, y0\n",
    "x0 = S0, I0\n",
    "y_pairs = odeint(deriv, x0, t)\n",
    "#plt.plot(ret[:,1])"
   ]
  },
  {
   "cell_type": "code",
   "execution_count": 987,
   "metadata": {},
   "outputs": [],
   "source": [
    "def cons(y, t):\n",
    "    I = y[0]\n",
    "    dIdt = tau * (N - I) * d * ((e-1)/N)*I - gamma * I\n",
    "    #dIdt = tau * (500 - I) * 16 * ((20-1)/500)*I - gamma * I\n",
    "    return  dIdt\n",
    "\n",
    "t = np.linspace(0, 2, 200)\n",
    "y_Simon = odeint(cons, y0, t)\n",
    "#plt.plot(y)"
   ]
  },
  {
   "cell_type": "code",
   "execution_count": 830,
   "metadata": {},
   "outputs": [
    {
     "data": {
      "text/plain": [
       "[<matplotlib.lines.Line2D at 0x1531ab5350>]"
      ]
     },
     "execution_count": 830,
     "metadata": {},
     "output_type": "execute_result"
    },
    {
     "data": {
      "image/png": "[encoded data removed]",
      "text/plain": [
       "<Figure size 432x288 with 1 Axes>"
      ]
     },
     "metadata": {
      "needs_background": "light"
     },
     "output_type": "display_data"
    }
   ],
   "source": [
    "infected = np.zeros((200,No_of_Iterations))\n",
    "#recovered = np.zeros(300)\n",
    "\n",
    "for iteration in range(No_of_Iterations):\n",
    "    x = np.zeros(len(X))\n",
    "    init_I = np.random.randint(N - 1, size=y0)\n",
    "    x[init_I] = 1\n",
    "    #print(iteration)\n",
    "    for i in range(200):\n",
    "        r = np.random.rand(N)\n",
    "        #print(r)\n",
    "        for j in range(len(X)):\n",
    "            if x[j] == 0:\n",
    "                s = 0\n",
    "                for k in range(len(J[0])):\n",
    "                    s = s + J[j][k] * np.matmul(x, J)[k]\n",
    "                #print(1 - np.exp(-tau * s * 0.01))\n",
    "                if r[j] <= 1 - np.exp(-tau * s * 0.01):\n",
    "                    x[j] = 1\n",
    "            if x[j] == 1:\n",
    "                if r[j] <= 1 - np.exp(-gamma * 0.01):\n",
    "                    x[j] = 0\n",
    "        infected[i][iteration] = np.sum(x)\n",
    "    #recovered[i] = np.sum(np.imag(x))\n",
    "#plt.plot(infected)\n",
    "#plt.plot(recovered)\n",
    "plt.plot(np.mean(infected, axis=1))\n",
    "plt.plot(y_Simon)\n",
    "plt.plot(y_pairs[:,1])"
   ]
  },
  {
   "cell_type": "code",
   "execution_count": 584,
   "metadata": {},
   "outputs": [
    {
     "ename": "ValueError",
     "evalue": "shapes (72,) and (40,32) not aligned: 72 (dim 0) != 40 (dim 0)",
     "output_type": "error",
     "traceback": [
      "\u001b[0;31m---------------------------------------------------------------------------\u001b[0m",
      "\u001b[0;31mValueError\u001b[0m                                Traceback (most recent call last)",
      "\u001b[0;32m<ipython-input-584-ed4bb9a8da1b>\u001b[0m in \u001b[0;36m<module>\u001b[0;34m\u001b[0m\n\u001b[1;32m      1\u001b[0m \u001b[0mx\u001b[0m \u001b[0;34m=\u001b[0m \u001b[0mnp\u001b[0m\u001b[0;34m.\u001b[0m\u001b[0mzeros\u001b[0m\u001b[0;34m(\u001b[0m\u001b[0mlen\u001b[0m\u001b[0;34m(\u001b[0m\u001b[0mG\u001b[0m\u001b[0;34m)\u001b[0m\u001b[0;34m)\u001b[0m\u001b[0;34m\u001b[0m\u001b[0;34m\u001b[0m\u001b[0m\n\u001b[1;32m      2\u001b[0m \u001b[0mx\u001b[0m\u001b[0;34m[\u001b[0m\u001b[0;36m3\u001b[0m\u001b[0;34m]\u001b[0m \u001b[0;34m=\u001b[0m \u001b[0;36m1\u001b[0m\u001b[0;34m\u001b[0m\u001b[0;34m\u001b[0m\u001b[0m\n\u001b[0;32m----> 3\u001b[0;31m \u001b[0mx\u001b[0m\u001b[0;34m.\u001b[0m\u001b[0mdot\u001b[0m\u001b[0;34m(\u001b[0m\u001b[0mJ\u001b[0m\u001b[0;34m)\u001b[0m\u001b[0;34m\u001b[0m\u001b[0;34m\u001b[0m\u001b[0m\n\u001b[0m",
      "\u001b[0;31mValueError\u001b[0m: shapes (72,) and (40,32) not aligned: 72 (dim 0) != 40 (dim 0)"
     ]
    }
   ],
   "source": [
    "x = np.zeros(len(G))\n",
    "x[3] = 1\n",
    "x.dot(J)"
   ]
  },
  {
   "cell_type": "code",
   "execution_count": 416,
   "metadata": {},
   "outputs": [
    {
     "data": {
      "text/plain": [
       "array([16, 20])"
      ]
     },
     "execution_count": 416,
     "metadata": {},
     "output_type": "execute_result"
    }
   ],
   "source": [
    "np.matmul([2,2], [[3,4],[5,6]])"
   ]
  },
  {
   "cell_type": "code",
   "execution_count": 47,
   "metadata": {},
   "outputs": [],
   "source": [
    "import random \n",
    "def partition (list_in, n):\n",
    "    random.shuffle(list_in)\n",
    "    return [list_in[i::n] for i in range(n)]"
   ]
  },
  {
   "cell_type": "raw",
   "metadata": {},
   "source": [
    "partition(list(range(100)), 10)"
   ]
  },
  {
   "cell_type": "code",
   "execution_count": null,
   "metadata": {},
   "outputs": [],
   "source": []
  },
  {
   "cell_type": "code",
   "execution_count": null,
   "metadata": {},
   "outputs": [],
   "source": [
    "def diff_eqs(INP,t):  \n",
    "    Y = np.zeros((3))\n",
    "    V = INP    \n",
    "    Y[0] = - beta * V[0] * V[1]\n",
    "    Y[1] = beta * V[0] * V[1] - gamma * V[1]\n",
    "    return Y   # For odeint\n"
   ]
  },
  {
   "cell_type": "code",
   "execution_count": 402,
   "metadata": {},
   "outputs": [
    {
     "data": {
      "text/plain": [
       "32"
      ]
     },
     "execution_count": 402,
     "metadata": {},
     "output_type": "execute_result"
    }
   ],
   "source": [
    "len(J[14])"
   ]
  },
  {
   "cell_type": "code",
   "execution_count": 443,
   "metadata": {},
   "outputs": [
    {
     "name": "stdout",
     "output_type": "stream",
     "text": [
      "[[0. 1. 0. ... 0. 0. 0.]\n",
      " [0. 0. 1. ... 0. 1. 0.]\n",
      " [1. 0. 0. ... 0. 0. 1.]\n",
      " ...\n",
      " [0. 1. 0. ... 0. 0. 0.]\n",
      " [1. 1. 0. ... 0. 1. 0.]\n",
      " [1. 0. 0. ... 1. 1. 0.]]\n"
     ]
    }
   ],
   "source": [
    "print(J)"
   ]
  },
  {
   "cell_type": "code",
   "execution_count": null,
   "metadata": {},
   "outputs": [],
   "source": []
  },
  {
   "cell_type": "code",
   "execution_count": 297,
   "metadata": {},
   "outputs": [
    {
     "name": "stdout",
     "output_type": "stream",
     "text": [
      "[[0. 0. 0. ... 0. 0. 0.]\n",
      " [0. 0. 0. ... 0. 0. 0.]\n",
      " [0. 0. 0. ... 0. 0. 0.]\n",
      " ...\n",
      " [0. 0. 0. ... 0. 0. 0.]\n",
      " [0. 0. 0. ... 0. 0. 0.]\n",
      " [0. 0. 0. ... 0. 0. 0.]]\n"
     ]
    }
   ],
   "source": [
    "G = nx.barabasi_albert_graph(50,10)\n",
    "A = list(nx.find_cliques(G))\n",
    "J = np.zeros((len(G),len(A)))\n",
    "for k in range(len(G)):\n",
    "    for i in range(len(A)):\n",
    "        for j in range(len(A[i])):\n",
    "            #print(i, j, A[i][j])\n",
    "            J[A[i][j]][i] = 1\n",
    "print(J)"
   ]
  },
  {
   "cell_type": "code",
   "execution_count": null,
   "metadata": {},
   "outputs": [],
   "source": []
  },
  {
   "cell_type": "code",
   "execution_count": 964,
   "metadata": {},
   "outputs": [
    {
     "name": "stdout",
     "output_type": "stream",
     "text": [
      "[[0 2 0 0 0 0 0 1 0 1]\n",
      " [2 0 1 0 0 0 0 0 1 0]\n",
      " [0 1 0 0 0 0 0 1 1 1]\n",
      " [0 0 0 0 2 0 1 1 0 0]\n",
      " [0 0 0 2 0 0 0 1 0 1]\n",
      " [0 0 0 0 0 0 1 0 1 0]\n",
      " [0 0 0 1 0 1 0 0 0 0]\n",
      " [1 0 1 1 1 0 0 0 0 0]\n",
      " [0 1 1 0 0 1 0 0 0 1]\n",
      " [1 0 1 0 1 0 0 0 1 0]]\n"
     ]
    },
    {
     "data": {
      "text/plain": [
       "3.6"
      ]
     },
     "execution_count": 964,
     "metadata": {},
     "output_type": "execute_result"
    }
   ],
   "source": [
    "import itertools\n",
    "H = nx.MultiGraph()\n",
    "for i in range(max(Y)-N+1):\n",
    "    Q = list(itertools.combinations(np.where(J[:,i] == 1)[0], 2))\n",
    "    H.add_edges_from(Q)\n",
    "A = nx.adjacency_matrix(H)\n",
    "print(A.todense())\n",
    "sum([d for (n, d) in nx.degree(H)]) / H.number_of_nodes()"
   ]
  },
  {
   "cell_type": "code",
   "execution_count": 982,
   "metadata": {},
   "outputs": [
    {
     "name": "stdout",
     "output_type": "stream",
     "text": [
      "[0 1 2]\n"
     ]
    }
   ],
   "source": [
    "B = A.todense()\n",
    "W = np.unique(np.array(B))\n",
    "print(W)"
   ]
  },
  {
   "cell_type": "code",
   "execution_count": 984,
   "metadata": {},
   "outputs": [
    {
     "name": "stdout",
     "output_type": "stream",
     "text": [
      "1\n",
      "2\n"
     ]
    }
   ],
   "source": []
  },
  {
   "cell_type": "code",
   "execution_count": 986,
   "metadata": {},
   "outputs": [
    {
     "ename": "NameError",
     "evalue": "name 'SI' is not defined",
     "output_type": "error",
     "traceback": [
      "\u001b[0;31m---------------------------------------------------------------------------\u001b[0m",
      "\u001b[0;31mNameError\u001b[0m                                 Traceback (most recent call last)",
      "\u001b[0;32m<ipython-input-986-c68f48ca6691>\u001b[0m in \u001b[0;36m<module>\u001b[0;34m\u001b[0m\n\u001b[1;32m      1\u001b[0m \u001b[0ms1\u001b[0m \u001b[0;34m=\u001b[0m \u001b[0;36m0\u001b[0m\u001b[0;34m\u001b[0m\u001b[0;34m\u001b[0m\u001b[0m\n\u001b[1;32m      2\u001b[0m \u001b[0;32mfor\u001b[0m \u001b[0mi\u001b[0m \u001b[0;32min\u001b[0m \u001b[0mrange\u001b[0m\u001b[0;34m(\u001b[0m\u001b[0mlen\u001b[0m\u001b[0;34m(\u001b[0m\u001b[0mW\u001b[0m\u001b[0;34m)\u001b[0m\u001b[0;34m)\u001b[0m\u001b[0;34m:\u001b[0m\u001b[0;34m\u001b[0m\u001b[0;34m\u001b[0m\u001b[0m\n\u001b[0;32m----> 3\u001b[0;31m     \u001b[0ms1\u001b[0m \u001b[0;34m=\u001b[0m \u001b[0ms1\u001b[0m \u001b[0;34m+\u001b[0m \u001b[0mW\u001b[0m\u001b[0;34m[\u001b[0m\u001b[0mi\u001b[0m\u001b[0;34m]\u001b[0m \u001b[0;34m*\u001b[0m \u001b[0mSI\u001b[0m\u001b[0;34m[\u001b[0m\u001b[0mi\u001b[0m\u001b[0;34m]\u001b[0m\u001b[0;34m\u001b[0m\u001b[0;34m\u001b[0m\u001b[0m\n\u001b[0m",
      "\u001b[0;31mNameError\u001b[0m: name 'SI' is not defined"
     ]
    }
   ],
   "source": [
    "s1 = 0\n",
    "for i in range(len(W)):\n",
    "    s1 = s1 + W[i] * SI[i]"
   ]
  },
  {
   "cell_type": "code",
   "execution_count": null,
   "metadata": {},
   "outputs": [],
   "source": []
  }
 ],
 "metadata": {
  "kernelspec": {
   "display_name": "Python 3",
   "language": "python",
   "name": "python3"
  },
  "language_info": {
   "codemirror_mode": {
    "name": "ipython",
    "version": 3
   },
   "file_extension": ".py",
   "mimetype": "text/x-python",
   "name": "python",
   "nbconvert_exporter": "python",
   "pygments_lexer": "ipython3",
   "version": "3.7.6"
  }
 },
 "nbformat": 4,
 "nbformat_minor": 4
}
